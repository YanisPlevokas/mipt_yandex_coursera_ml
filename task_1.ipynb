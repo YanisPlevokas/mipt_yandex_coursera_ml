{
 "cells": [
  {
   "cell_type": "code",
   "execution_count": 70,
   "metadata": {},
   "outputs": [],
   "source": [
    "import re\n",
    "import numpy as np\n",
    "from scipy.spatial import distance\n",
    "file = open('file_asd.txt', 'r+')\n",
    "str_mass = []\n",
    "for line in file:\n",
    "        str_mass.append(line)\n",
    "dictionary = {}\n",
    "counter = 0\n",
    "reshape_matrix = []\n",
    "new_dict = []\n",
    "for i in range(len(str_mass)):\n",
    "    str_mass[i] = str_mass[i].lower()\n",
    "    split_str = re.split('[^a-z]', str_mass[i])\n",
    "    split_str = [x for x in split_str if x != '']\n",
    "    reshape_matrix.append(split_str)\n",
    "    for word in split_str:\n",
    "        if word != '' and (word not in dictionary):\n",
    "            new_dict.append(word)\n",
    "            dictionary[word] = counter\n",
    "matrix = np.zeros((22,254))\n",
    "for i in range (22):\n",
    "    for j in range (254):\n",
    "        word_new = reshape_matrix[i]\n",
    "        matrix[i,j] = word_new.count(new_dict[j])"
   ]
  },
  {
   "cell_type": "code",
   "execution_count": 71,
   "metadata": {},
   "outputs": [
    {
     "data": {
      "text/plain": [
       "array([[1., 1., 1., ..., 0., 0., 0.],\n",
       "       [0., 0., 1., ..., 0., 0., 0.],\n",
       "       [0., 0., 2., ..., 0., 0., 0.],\n",
       "       ...,\n",
       "       [0., 0., 0., ..., 0., 0., 0.],\n",
       "       [1., 0., 1., ..., 0., 0., 0.],\n",
       "       [0., 0., 1., ..., 1., 1., 1.]])"
      ]
     },
     "execution_count": 71,
     "metadata": {},
     "output_type": "execute_result"
    }
   ],
   "source": [
    "matrix"
   ]
  },
  {
   "cell_type": "code",
   "execution_count": 73,
   "metadata": {},
   "outputs": [
    {
     "name": "stdout",
     "output_type": "stream",
     "text": [
      "0.8644738145642124\n"
     ]
    }
   ],
   "source": [
    "print(distance.cosine(matrix[0],matrix[2]))"
   ]
  },
  {
   "cell_type": "code",
   "execution_count": 92,
   "metadata": {},
   "outputs": [],
   "source": [
    "dist_mart = []\n",
    "for i in range (22):\n",
    "    dist_mart.append(distance.cosine(matrix[0],matrix[i]))"
   ]
  },
  {
   "cell_type": "code",
   "execution_count": 101,
   "metadata": {},
   "outputs": [
    {
     "data": {
      "text/plain": [
       "[0.0,\n",
       " 0.9527544408738466,\n",
       " 0.8644738145642124,\n",
       " 0.8951715163278082,\n",
       " 0.7770887149698589,\n",
       " 0.9402385695332803,\n",
       " 0.7327387580875756,\n",
       " 0.9258750683338899,\n",
       " 0.8842724875284311,\n",
       " 0.9055088817476932,\n",
       " 0.8328165362273942,\n",
       " 0.8804771390665607,\n",
       " 0.8396432548525454,\n",
       " 0.8703592552895671,\n",
       " 0.8740118423302576,\n",
       " 0.9442721787424647,\n",
       " 0.8406361854220809,\n",
       " 0.956644501523794,\n",
       " 0.9442721787424647,\n",
       " 0.8885443574849294,\n",
       " 0.8427572744917122,\n",
       " 0.8250364469440588]"
      ]
     },
     "execution_count": 101,
     "metadata": {},
     "output_type": "execute_result"
    }
   ],
   "source": [
    "dist_new = np.array(dist_mart)\n",
    "dist_mart"
   ]
  },
  {
   "cell_type": "code",
   "execution_count": 96,
   "metadata": {},
   "outputs": [
    {
     "data": {
      "text/plain": [
       "array([0.        , 0.95275444, 0.86447381, 0.89517152, 0.77708871,\n",
       "       0.94023857, 0.73273876, 0.92587507, 0.88427249, 0.90550888,\n",
       "       0.83281654, 0.88047714, 0.83964325, 0.87035926, 0.87401184,\n",
       "       0.94427218, 0.84063619, 0.9566445 , 0.94427218, 0.88854436,\n",
       "       0.84275727, 0.82503645])"
      ]
     },
     "execution_count": 96,
     "metadata": {},
     "output_type": "execute_result"
    }
   ],
   "source": [
    "dist_new"
   ]
  },
  {
   "cell_type": "code",
   "execution_count": 98,
   "metadata": {},
   "outputs": [],
   "source": [
    "result = np.argpartition(dist_new, 3)"
   ]
  },
  {
   "cell_type": "code",
   "execution_count": 99,
   "metadata": {},
   "outputs": [
    {
     "data": {
      "text/plain": [
       "array([ 4,  0,  6, 21,  3,  5,  2,  7,  8,  9,  1, 11, 12, 13, 14, 15, 16,\n",
       "       17, 18, 19, 20, 10], dtype=int64)"
      ]
     },
     "execution_count": 99,
     "metadata": {},
     "output_type": "execute_result"
    }
   ],
   "source": [
    "result"
   ]
  },
  {
   "cell_type": "code",
   "execution_count": null,
   "metadata": {},
   "outputs": [],
   "source": []
  }
 ],
 "metadata": {
  "kernelspec": {
   "display_name": "Python 3",
   "language": "python",
   "name": "python3"
  },
  "language_info": {
   "codemirror_mode": {
    "name": "ipython",
    "version": 3
   },
   "file_extension": ".py",
   "mimetype": "text/x-python",
   "name": "python",
   "nbconvert_exporter": "python",
   "pygments_lexer": "ipython3",
   "version": "3.8.3"
  }
 },
 "nbformat": 4,
 "nbformat_minor": 4
}
